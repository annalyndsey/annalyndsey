{
 "cells": [
  {
   "cell_type": "markdown",
   "id": "061aee4d",
   "metadata": {},
   "source": [
    "## Training a Chatbot on top of a T5 model\n",
    "\n",
    "This trains on top of Flan-T5-base using the Alpaca dataset.  It needs to be run on a machine with a 24G GPU or bigger.  With bigger GPUs you can train over more data and with bigger batch sizes.  The default parameters work for a 24G GPU (like an A10) as they are the easiest to come by.  If the GPU is too small the Jupyter kernel will crash. To see GPU memory usage use the command nvidia-smi."
   ]
  },
  {
   "cell_type": "code",
   "execution_count": 1,
   "id": "feae5b98",
   "metadata": {},
   "outputs": [
    {
     "name": "stdout",
     "output_type": "stream",
     "text": [
      "Collecting pytesseract\n",
      "  Using cached pytesseract-0.3.10-py3-none-any.whl (14 kB)\n",
      "Requirement already satisfied: transformers in /Users/costello/opt/anaconda3/lib/python3.9/site-packages (4.26.1)\n",
      "Collecting transformers\n",
      "  Downloading transformers-4.27.1-py3-none-any.whl (6.7 MB)\n",
      "\u001b[2K     \u001b[90m━━━━━━━━━━━━━━━━━━━━━━━━━━━━━━━━━━━━━━━━\u001b[0m \u001b[32m6.7/6.7 MB\u001b[0m \u001b[31m3.2 MB/s\u001b[0m eta \u001b[36m0:00:00\u001b[0m00:01\u001b[0m00:01\u001b[0mm\n",
      "\u001b[?25hCollecting datasets\n",
      "  Using cached datasets-2.10.1-py3-none-any.whl (469 kB)\n",
      "Collecting rouge-score\n",
      "  Using cached rouge_score-0.1.2.tar.gz (17 kB)\n",
      "  Preparing metadata (setup.py) ... \u001b[?25ldone\n",
      "\u001b[?25hRequirement already satisfied: nltk in /Users/costello/opt/anaconda3/lib/python3.9/site-packages (3.7)\n",
      "Collecting nltk\n",
      "  Using cached nltk-3.8.1-py3-none-any.whl (1.5 MB)\n",
      "Collecting tensorboard\n",
      "  Downloading tensorboard-2.12.0-py3-none-any.whl (5.6 MB)\n",
      "\u001b[2K     \u001b[90m━━━━━━━━━━━━━━━━━━━━━━━━━━━━━━━━━━━━━━━━\u001b[0m \u001b[32m5.6/5.6 MB\u001b[0m \u001b[31m2.3 MB/s\u001b[0m eta \u001b[36m0:00:00\u001b[0m00:01\u001b[0m00:01\u001b[0m\n",
      "\u001b[?25hCollecting py7zr\n",
      "  Downloading py7zr-0.20.4-py3-none-any.whl (66 kB)\n",
      "\u001b[2K     \u001b[90m━━━━━━━━━━━━━━━━━━━━━━━━━━━━━━━━━━━━━━━━\u001b[0m \u001b[32m66.3/66.3 kB\u001b[0m \u001b[31m1.4 MB/s\u001b[0m eta \u001b[36m0:00:00\u001b[0ma \u001b[36m0:00:01\u001b[0m\n",
      "\u001b[?25hRequirement already satisfied: packaging>=21.3 in /Users/costello/opt/anaconda3/lib/python3.9/site-packages (from pytesseract) (21.3)\n",
      "Requirement already satisfied: Pillow>=8.0.0 in /Users/costello/opt/anaconda3/lib/python3.9/site-packages (from pytesseract) (9.2.0)\n",
      "Requirement already satisfied: tokenizers!=0.11.3,<0.14,>=0.11.1 in /Users/costello/opt/anaconda3/lib/python3.9/site-packages (from transformers) (0.13.2)\n",
      "Requirement already satisfied: pyyaml>=5.1 in /Users/costello/opt/anaconda3/lib/python3.9/site-packages (from transformers) (6.0)\n",
      "Requirement already satisfied: regex!=2019.12.17 in /Users/costello/opt/anaconda3/lib/python3.9/site-packages (from transformers) (2022.7.9)\n",
      "Requirement already satisfied: filelock in /Users/costello/opt/anaconda3/lib/python3.9/site-packages (from transformers) (3.6.0)\n",
      "Requirement already satisfied: numpy>=1.17 in /Users/costello/opt/anaconda3/lib/python3.9/site-packages (from transformers) (1.21.5)\n",
      "Requirement already satisfied: requests in /Users/costello/opt/anaconda3/lib/python3.9/site-packages (from transformers) (2.28.1)\n",
      "Requirement already satisfied: huggingface-hub<1.0,>=0.11.0 in /Users/costello/opt/anaconda3/lib/python3.9/site-packages (from transformers) (0.12.1)\n",
      "Requirement already satisfied: tqdm>=4.27 in /Users/costello/opt/anaconda3/lib/python3.9/site-packages (from transformers) (4.64.1)\n",
      "Collecting multiprocess\n",
      "  Downloading multiprocess-0.70.14-py39-none-any.whl (132 kB)\n",
      "\u001b[2K     \u001b[90m━━━━━━━━━━━━━━━━━━━━━━━━━━━━━━━━━━━━━\u001b[0m \u001b[32m132.9/132.9 kB\u001b[0m \u001b[31m777.5 kB/s\u001b[0m eta \u001b[36m0:00:00\u001b[0ma \u001b[36m0:00:01\u001b[0m\n",
      "\u001b[?25hRequirement already satisfied: pandas in /Users/costello/opt/anaconda3/lib/python3.9/site-packages (from datasets) (1.4.4)\n",
      "Collecting xxhash\n",
      "  Downloading xxhash-3.2.0-cp39-cp39-macosx_10_9_x86_64.whl (35 kB)\n",
      "Collecting aiohttp\n",
      "  Downloading aiohttp-3.8.4-cp39-cp39-macosx_10_9_x86_64.whl (360 kB)\n",
      "\u001b[2K     \u001b[90m━━━━━━━━━━━━━━━━━━━━━━━━━━━━━━━━━━━━━━━\u001b[0m \u001b[32m360.3/360.3 kB\u001b[0m \u001b[31m2.1 MB/s\u001b[0m eta \u001b[36m0:00:00\u001b[0ma \u001b[36m0:00:01\u001b[0m\n",
      "\u001b[?25hRequirement already satisfied: dill<0.3.7,>=0.3.0 in /Users/costello/opt/anaconda3/lib/python3.9/site-packages (from datasets) (0.3.4)\n",
      "Collecting pyarrow>=6.0.0\n",
      "  Downloading pyarrow-11.0.0-cp39-cp39-macosx_10_14_x86_64.whl (24.5 MB)\n",
      "\u001b[2K     \u001b[90m━━━━━━━━━━━━━━━━━━━━━━━━━━━━━━━━━━━━━━━━\u001b[0m \u001b[32m24.5/24.5 MB\u001b[0m \u001b[31m2.4 MB/s\u001b[0m eta \u001b[36m0:00:00\u001b[0m00:01\u001b[0m00:01\u001b[0m\n",
      "\u001b[?25hRequirement already satisfied: fsspec[http]>=2021.11.1 in /Users/costello/opt/anaconda3/lib/python3.9/site-packages (from datasets) (2022.7.1)\n",
      "Collecting responses<0.19\n",
      "  Using cached responses-0.18.0-py3-none-any.whl (38 kB)\n",
      "Collecting absl-py\n",
      "  Downloading absl_py-1.4.0-py3-none-any.whl (126 kB)\n",
      "\u001b[2K     \u001b[90m━━━━━━━━━━━━━━━━━━━━━━━━━━━━━━━━━━━━━━━\u001b[0m \u001b[32m126.5/126.5 kB\u001b[0m \u001b[31m1.3 MB/s\u001b[0m eta \u001b[36m0:00:00\u001b[0ma \u001b[36m0:00:01\u001b[0m\n",
      "\u001b[?25hRequirement already satisfied: six>=1.14.0 in /Users/costello/opt/anaconda3/lib/python3.9/site-packages (from rouge-score) (1.16.0)\n",
      "Requirement already satisfied: click in /Users/costello/opt/anaconda3/lib/python3.9/site-packages (from nltk) (8.0.4)\n",
      "Requirement already satisfied: joblib in /Users/costello/opt/anaconda3/lib/python3.9/site-packages (from nltk) (1.1.0)\n",
      "Requirement already satisfied: markdown>=2.6.8 in /Users/costello/opt/anaconda3/lib/python3.9/site-packages (from tensorboard) (3.3.4)\n",
      "Collecting protobuf>=3.19.6\n",
      "  Downloading protobuf-4.22.1-cp37-abi3-macosx_10_9_universal2.whl (397 kB)\n",
      "\u001b[2K     \u001b[90m━━━━━━━━━━━━━━━━━━━━━━━━━━━━━━━━━━━━━━━\u001b[0m \u001b[32m397.2/397.2 kB\u001b[0m \u001b[31m1.2 MB/s\u001b[0m eta \u001b[36m0:00:00\u001b[0m00:01\u001b[0m00:01\u001b[0m\n",
      "\u001b[?25hRequirement already satisfied: setuptools>=41.0.0 in /Users/costello/opt/anaconda3/lib/python3.9/site-packages (from tensorboard) (63.4.1)\n",
      "Collecting tensorboard-data-server<0.8.0,>=0.7.0\n",
      "  Downloading tensorboard_data_server-0.7.0-py3-none-macosx_10_9_x86_64.whl (4.8 MB)\n",
      "\u001b[2K     \u001b[90m━━━━━━━━━━━━━━━━━━━━━━━━━━━━━━━━━━━━━━━━\u001b[0m \u001b[32m4.8/4.8 MB\u001b[0m \u001b[31m2.0 MB/s\u001b[0m eta \u001b[36m0:00:00\u001b[0m00:01\u001b[0m00:01\u001b[0m\n",
      "\u001b[?25hRequirement already satisfied: werkzeug>=1.0.1 in /Users/costello/opt/anaconda3/lib/python3.9/site-packages (from tensorboard) (2.0.3)\n",
      "Requirement already satisfied: wheel>=0.26 in /Users/costello/opt/anaconda3/lib/python3.9/site-packages (from tensorboard) (0.37.1)\n",
      "Collecting google-auth-oauthlib<0.5,>=0.4.1\n",
      "  Downloading google_auth_oauthlib-0.4.6-py2.py3-none-any.whl (18 kB)\n",
      "Collecting tensorboard-plugin-wit>=1.6.0\n",
      "  Using cached tensorboard_plugin_wit-1.8.1-py3-none-any.whl (781 kB)\n",
      "Collecting google-auth<3,>=1.6.3\n",
      "  Downloading google_auth-2.16.2-py2.py3-none-any.whl (177 kB)\n",
      "\u001b[2K     \u001b[90m━━━━━━━━━━━━━━━━━━━━━━━━━━━━━━━━━━━━━━━\u001b[0m \u001b[32m177.2/177.2 kB\u001b[0m \u001b[31m2.2 MB/s\u001b[0m eta \u001b[36m0:00:00\u001b[0m00:01\u001b[0m00:01\u001b[0m\n",
      "\u001b[?25hCollecting grpcio>=1.48.2\n",
      "  Downloading grpcio-1.51.3-cp39-cp39-macosx_10_10_universal2.whl (8.2 MB)\n",
      "\u001b[2K     \u001b[90m━━━━━━━━━━━━━━━━━━━━━━━━━━━━━━━━━━━━━━━━\u001b[0m \u001b[32m8.2/8.2 MB\u001b[0m \u001b[31m2.4 MB/s\u001b[0m eta \u001b[36m0:00:00\u001b[0m00:01\u001b[0m00:01\u001b[0m\n",
      "\u001b[?25hCollecting texttable\n",
      "  Using cached texttable-1.6.7-py2.py3-none-any.whl (10 kB)\n",
      "Collecting inflate64>=0.3.1\n",
      "  Downloading inflate64-0.3.1-cp39-cp39-macosx_10_9_x86_64.whl (36 kB)\n",
      "Collecting pyppmd<1.1.0,>=0.18.1\n",
      "  Downloading pyppmd-1.0.0-cp39-cp39-macosx_10_9_x86_64.whl (47 kB)\n",
      "\u001b[2K     \u001b[90m━━━━━━━━━━━━━━━━━━━━━━━━━━━━━━━━━━━━━━━━\u001b[0m \u001b[32m47.3/47.3 kB\u001b[0m \u001b[31m1.5 MB/s\u001b[0m eta \u001b[36m0:00:00\u001b[0m\n",
      "\u001b[?25hCollecting brotli>=1.0.9\n",
      "  Downloading Brotli-1.0.9-cp39-cp39-macosx_10_9_x86_64.whl (421 kB)\n",
      "\u001b[2K     \u001b[90m━━━━━━━━━━━━━━━━━━━━━━━━━━━━━━━━━━━━━━━\u001b[0m \u001b[32m421.1/421.1 kB\u001b[0m \u001b[31m2.9 MB/s\u001b[0m eta \u001b[36m0:00:00\u001b[0ma \u001b[36m0:00:01\u001b[0m\n",
      "\u001b[?25hRequirement already satisfied: psutil in /Users/costello/opt/anaconda3/lib/python3.9/site-packages (from py7zr) (5.9.0)\n",
      "Collecting multivolumefile>=0.2.3\n",
      "  Using cached multivolumefile-0.2.3-py3-none-any.whl (17 kB)\n",
      "Collecting pycryptodomex>=3.6.6\n",
      "  Using cached pycryptodomex-3.17-cp35-abi3-macosx_10_9_x86_64.whl (1.6 MB)\n",
      "Collecting pybcj>=0.6.0\n",
      "  Downloading pybcj-1.0.1-cp39-cp39-macosx_10_9_x86_64.whl (23 kB)\n",
      "Collecting pyzstd>=0.14.4\n",
      "  Downloading pyzstd-0.15.4-cp39-cp39-macosx_10_9_x86_64.whl (406 kB)\n",
      "\u001b[2K     \u001b[90m━━━━━━━━━━━━━━━━━━━━━━━━━━━━━━━━━━━━━━━\u001b[0m \u001b[32m406.0/406.0 kB\u001b[0m \u001b[31m2.3 MB/s\u001b[0m eta \u001b[36m0:00:00\u001b[0m00:01\u001b[0m00:01\u001b[0m\n",
      "\u001b[?25hRequirement already satisfied: pyasn1-modules>=0.2.1 in /Users/costello/opt/anaconda3/lib/python3.9/site-packages (from google-auth<3,>=1.6.3->tensorboard) (0.2.8)\n",
      "Collecting cachetools<6.0,>=2.0.0\n",
      "  Downloading cachetools-5.3.0-py3-none-any.whl (9.3 kB)\n",
      "Collecting rsa<5,>=3.1.4\n",
      "  Downloading rsa-4.9-py3-none-any.whl (34 kB)\n",
      "Collecting requests-oauthlib>=0.7.0\n",
      "  Downloading requests_oauthlib-1.3.1-py2.py3-none-any.whl (23 kB)\n",
      "Requirement already satisfied: typing-extensions>=3.7.4.3 in /Users/costello/opt/anaconda3/lib/python3.9/site-packages (from huggingface-hub<1.0,>=0.11.0->transformers) (4.3.0)\n",
      "Requirement already satisfied: pyparsing!=3.0.5,>=2.0.2 in /Users/costello/opt/anaconda3/lib/python3.9/site-packages (from packaging>=21.3->pytesseract) (3.0.9)\n"
     ]
    },
    {
     "name": "stdout",
     "output_type": "stream",
     "text": [
      "Requirement already satisfied: idna<4,>=2.5 in /Users/costello/opt/anaconda3/lib/python3.9/site-packages (from requests->transformers) (3.3)\n",
      "Requirement already satisfied: charset-normalizer<3,>=2 in /Users/costello/opt/anaconda3/lib/python3.9/site-packages (from requests->transformers) (2.0.4)\n",
      "Requirement already satisfied: urllib3<1.27,>=1.21.1 in /Users/costello/opt/anaconda3/lib/python3.9/site-packages (from requests->transformers) (1.26.11)\n",
      "Requirement already satisfied: certifi>=2017.4.17 in /Users/costello/opt/anaconda3/lib/python3.9/site-packages (from requests->transformers) (2022.9.24)\n",
      "Collecting aiosignal>=1.1.2\n",
      "  Using cached aiosignal-1.3.1-py3-none-any.whl (7.6 kB)\n",
      "Requirement already satisfied: attrs>=17.3.0 in /Users/costello/opt/anaconda3/lib/python3.9/site-packages (from aiohttp->datasets) (21.4.0)\n",
      "Collecting yarl<2.0,>=1.0\n",
      "  Downloading yarl-1.8.2-cp39-cp39-macosx_10_9_x86_64.whl (61 kB)\n",
      "\u001b[2K     \u001b[90m━━━━━━━━━━━━━━━━━━━━━━━━━━━━━━━━━━━━━━━━\u001b[0m \u001b[32m61.2/61.2 kB\u001b[0m \u001b[31m1.5 MB/s\u001b[0m eta \u001b[36m0:00:00\u001b[0ma \u001b[36m0:00:01\u001b[0m\n",
      "\u001b[?25hCollecting multidict<7.0,>=4.5\n",
      "  Downloading multidict-6.0.4-cp39-cp39-macosx_10_9_x86_64.whl (29 kB)\n",
      "Collecting async-timeout<5.0,>=4.0.0a3\n",
      "  Using cached async_timeout-4.0.2-py3-none-any.whl (5.8 kB)\n",
      "Collecting frozenlist>=1.1.1\n",
      "  Downloading frozenlist-1.3.3-cp39-cp39-macosx_10_9_x86_64.whl (36 kB)\n",
      "Collecting dill<0.3.7,>=0.3.0\n",
      "  Using cached dill-0.3.6-py3-none-any.whl (110 kB)\n",
      "Requirement already satisfied: python-dateutil>=2.8.1 in /Users/costello/opt/anaconda3/lib/python3.9/site-packages (from pandas->datasets) (2.8.2)\n",
      "Requirement already satisfied: pytz>=2020.1 in /Users/costello/opt/anaconda3/lib/python3.9/site-packages (from pandas->datasets) (2022.1)\n",
      "Requirement already satisfied: pyasn1<0.5.0,>=0.4.6 in /Users/costello/opt/anaconda3/lib/python3.9/site-packages (from pyasn1-modules>=0.2.1->google-auth<3,>=1.6.3->tensorboard) (0.4.8)\n",
      "Collecting oauthlib>=3.0.0\n",
      "  Downloading oauthlib-3.2.2-py3-none-any.whl (151 kB)\n",
      "\u001b[2K     \u001b[90m━━━━━━━━━━━━━━━━━━━━━━━━━━━━━━━━━━━━━━━\u001b[0m \u001b[32m151.7/151.7 kB\u001b[0m \u001b[31m1.9 MB/s\u001b[0m eta \u001b[36m0:00:00\u001b[0ma \u001b[36m0:00:01\u001b[0m\n",
      "\u001b[?25hBuilding wheels for collected packages: rouge-score\n",
      "  Building wheel for rouge-score (setup.py) ... \u001b[?25ldone\n",
      "\u001b[?25h  Created wheel for rouge-score: filename=rouge_score-0.1.2-py3-none-any.whl size=24936 sha256=2e1677306204e56aa5ac20595f756e0f6fa619dfc6bb911670dd7bc55babafc0\n",
      "  Stored in directory: /Users/costello/Library/Caches/pip/wheels/9b/3d/39/09558097d3119ca0a4d462df68f22c6f3c1b345ac63a09b86e\n",
      "Successfully built rouge-score\n",
      "Installing collected packages: texttable, tensorboard-plugin-wit, brotli, xxhash, tensorboard-data-server, rsa, pyzstd, pyppmd, pycryptodomex, pybcj, pyarrow, protobuf, oauthlib, nltk, multivolumefile, multidict, inflate64, grpcio, frozenlist, dill, cachetools, async-timeout, absl-py, yarl, rouge-score, responses, requests-oauthlib, pytesseract, py7zr, multiprocess, google-auth, aiosignal, transformers, google-auth-oauthlib, aiohttp, tensorboard, datasets\n",
      "  Attempting uninstall: nltk\n",
      "    Found existing installation: nltk 3.7\n",
      "    Uninstalling nltk-3.7:\n",
      "      Successfully uninstalled nltk-3.7\n",
      "  Attempting uninstall: dill\n",
      "    Found existing installation: dill 0.3.4\n",
      "    Uninstalling dill-0.3.4:\n",
      "      Successfully uninstalled dill-0.3.4\n",
      "  Attempting uninstall: transformers\n",
      "    Found existing installation: transformers 4.26.1\n",
      "    Uninstalling transformers-4.26.1:\n",
      "      Successfully uninstalled transformers-4.26.1\n",
      "Successfully installed absl-py-1.4.0 aiohttp-3.8.4 aiosignal-1.3.1 async-timeout-4.0.2 brotli-1.0.9 cachetools-5.3.0 datasets-2.10.1 dill-0.3.6 frozenlist-1.3.3 google-auth-2.16.2 google-auth-oauthlib-0.4.6 grpcio-1.51.3 inflate64-0.3.1 multidict-6.0.4 multiprocess-0.70.14 multivolumefile-0.2.3 nltk-3.8.1 oauthlib-3.2.2 protobuf-4.22.1 py7zr-0.20.4 pyarrow-11.0.0 pybcj-1.0.1 pycryptodomex-3.17 pyppmd-1.0.0 pytesseract-0.3.10 pyzstd-0.15.4 requests-oauthlib-1.3.1 responses-0.18.0 rouge-score-0.1.2 rsa-4.9 tensorboard-2.12.0 tensorboard-data-server-0.7.0 tensorboard-plugin-wit-1.8.1 texttable-1.6.7 transformers-4.27.1 xxhash-3.2.0 yarl-1.8.2\n",
      "Note: you may need to restart the kernel to use updated packages.\n"
     ]
    }
   ],
   "source": [
    "pip install pytesseract transformers datasets rouge-score nltk tensorboard py7zr --upgrade"
   ]
  },
  {
   "cell_type": "markdown",
   "id": "8c3a8dd7",
   "metadata": {},
   "source": [
    "This installed the basic packages. transformers is the core piece of large langauge models.  Rouge is something that scores outputs *Recall-Oriented Understudy for Gisting Evaluation* datasets is a package for handling our dataset, tensorboard shows progress as a bar."
   ]
  },
  {
   "cell_type": "code",
   "execution_count": 2,
   "id": "ad46380d",
   "metadata": {},
   "outputs": [
    {
     "name": "stdout",
     "output_type": "stream",
     "text": [
      "fatal: destination path 'stanford_alpaca' already exists and is not an empty directory.\n",
      "\u001b[31mERROR: Could not find a version that satisfies the requirement protoc (from versions: none)\u001b[0m\u001b[31m\n",
      "\u001b[0m\u001b[31mERROR: No matching distribution found for protoc\u001b[0m\u001b[31m\n",
      "\u001b[0mCollecting protobuf\n",
      "  Using cached protobuf-4.22.1-cp37-abi3-macosx_10_9_universal2.whl (397 kB)\n",
      "Installing collected packages: protobuf\n",
      "Successfully installed protobuf-4.22.1\n",
      "Collecting protobuf==3.20.*\n",
      "  Downloading protobuf-3.20.3-py2.py3-none-any.whl (162 kB)\n",
      "\u001b[2K     \u001b[90m━━━━━━━━━━━━━━━━━━━━━━━━━━━━━━━━━━━━━━━\u001b[0m \u001b[32m162.1/162.1 kB\u001b[0m \u001b[31m3.1 MB/s\u001b[0m eta \u001b[36m0:00:00\u001b[0ma \u001b[36m0:00:01\u001b[0m\n",
      "\u001b[?25hInstalling collected packages: protobuf\n",
      "  Attempting uninstall: protobuf\n",
      "    Found existing installation: protobuf 4.22.1\n",
      "    Uninstalling protobuf-4.22.1:\n",
      "      Successfully uninstalled protobuf-4.22.1\n",
      "Successfully installed protobuf-3.20.3\n",
      "Collecting evaluate\n",
      "  Downloading evaluate-0.4.0-py3-none-any.whl (81 kB)\n",
      "\u001b[2K     \u001b[90m━━━━━━━━━━━━━━━━━━━━━━━━━━━━━━━━━━━━━━━━\u001b[0m \u001b[32m81.4/81.4 kB\u001b[0m \u001b[31m2.7 MB/s\u001b[0m eta \u001b[36m0:00:00\u001b[0m\n",
      "\u001b[?25hRequirement already satisfied: huggingface-hub>=0.7.0 in /Library/Frameworks/Python.framework/Versions/3.10/lib/python3.10/site-packages (from evaluate) (0.12.1)\n",
      "Requirement already satisfied: datasets>=2.0.0 in /Library/Frameworks/Python.framework/Versions/3.10/lib/python3.10/site-packages (from evaluate) (2.10.1)\n",
      "Requirement already satisfied: pandas in /Library/Frameworks/Python.framework/Versions/3.10/lib/python3.10/site-packages (from evaluate) (1.5.3)\n",
      "Requirement already satisfied: requests>=2.19.0 in /Library/Frameworks/Python.framework/Versions/3.10/lib/python3.10/site-packages (from evaluate) (2.28.2)\n",
      "Requirement already satisfied: multiprocess in /Library/Frameworks/Python.framework/Versions/3.10/lib/python3.10/site-packages (from evaluate) (0.70.14)\n",
      "Requirement already satisfied: xxhash in /Library/Frameworks/Python.framework/Versions/3.10/lib/python3.10/site-packages (from evaluate) (3.2.0)\n",
      "Requirement already satisfied: responses<0.19 in /Library/Frameworks/Python.framework/Versions/3.10/lib/python3.10/site-packages (from evaluate) (0.18.0)\n",
      "Requirement already satisfied: fsspec[http]>=2021.05.0 in /Library/Frameworks/Python.framework/Versions/3.10/lib/python3.10/site-packages (from evaluate) (2023.3.0)\n",
      "Requirement already satisfied: numpy>=1.17 in /Library/Frameworks/Python.framework/Versions/3.10/lib/python3.10/site-packages (from evaluate) (1.24.2)\n",
      "Requirement already satisfied: packaging in /Library/Frameworks/Python.framework/Versions/3.10/lib/python3.10/site-packages (from evaluate) (23.0)\n",
      "Requirement already satisfied: tqdm>=4.62.1 in /Library/Frameworks/Python.framework/Versions/3.10/lib/python3.10/site-packages (from evaluate) (4.64.1)\n",
      "Requirement already satisfied: dill in /Library/Frameworks/Python.framework/Versions/3.10/lib/python3.10/site-packages (from evaluate) (0.3.6)\n",
      "Requirement already satisfied: pyyaml>=5.1 in /Library/Frameworks/Python.framework/Versions/3.10/lib/python3.10/site-packages (from datasets>=2.0.0->evaluate) (6.0)\n",
      "Requirement already satisfied: pyarrow>=6.0.0 in /Library/Frameworks/Python.framework/Versions/3.10/lib/python3.10/site-packages (from datasets>=2.0.0->evaluate) (11.0.0)\n",
      "Requirement already satisfied: aiohttp in /Library/Frameworks/Python.framework/Versions/3.10/lib/python3.10/site-packages (from datasets>=2.0.0->evaluate) (3.8.4)\n",
      "Requirement already satisfied: typing-extensions>=3.7.4.3 in /Library/Frameworks/Python.framework/Versions/3.10/lib/python3.10/site-packages (from huggingface-hub>=0.7.0->evaluate) (4.5.0)\n",
      "Requirement already satisfied: filelock in /Library/Frameworks/Python.framework/Versions/3.10/lib/python3.10/site-packages (from huggingface-hub>=0.7.0->evaluate) (3.9.0)\n",
      "Requirement already satisfied: urllib3<1.27,>=1.21.1 in /Library/Frameworks/Python.framework/Versions/3.10/lib/python3.10/site-packages (from requests>=2.19.0->evaluate) (1.26.14)\n",
      "Requirement already satisfied: charset-normalizer<4,>=2 in /Library/Frameworks/Python.framework/Versions/3.10/lib/python3.10/site-packages (from requests>=2.19.0->evaluate) (3.0.1)\n",
      "Requirement already satisfied: idna<4,>=2.5 in /Library/Frameworks/Python.framework/Versions/3.10/lib/python3.10/site-packages (from requests>=2.19.0->evaluate) (3.4)\n",
      "Requirement already satisfied: certifi>=2017.4.17 in /Library/Frameworks/Python.framework/Versions/3.10/lib/python3.10/site-packages (from requests>=2.19.0->evaluate) (2022.12.7)\n",
      "Requirement already satisfied: pytz>=2020.1 in /Library/Frameworks/Python.framework/Versions/3.10/lib/python3.10/site-packages (from pandas->evaluate) (2022.7.1)\n",
      "Requirement already satisfied: python-dateutil>=2.8.1 in /Library/Frameworks/Python.framework/Versions/3.10/lib/python3.10/site-packages (from pandas->evaluate) (2.8.2)\n",
      "Requirement already satisfied: aiosignal>=1.1.2 in /Library/Frameworks/Python.framework/Versions/3.10/lib/python3.10/site-packages (from aiohttp->datasets>=2.0.0->evaluate) (1.3.1)\n",
      "Requirement already satisfied: multidict<7.0,>=4.5 in /Library/Frameworks/Python.framework/Versions/3.10/lib/python3.10/site-packages (from aiohttp->datasets>=2.0.0->evaluate) (6.0.4)\n",
      "Requirement already satisfied: yarl<2.0,>=1.0 in /Library/Frameworks/Python.framework/Versions/3.10/lib/python3.10/site-packages (from aiohttp->datasets>=2.0.0->evaluate) (1.8.2)\n",
      "Requirement already satisfied: attrs>=17.3.0 in /Library/Frameworks/Python.framework/Versions/3.10/lib/python3.10/site-packages (from aiohttp->datasets>=2.0.0->evaluate) (22.2.0)\n",
      "Requirement already satisfied: frozenlist>=1.1.1 in /Library/Frameworks/Python.framework/Versions/3.10/lib/python3.10/site-packages (from aiohttp->datasets>=2.0.0->evaluate) (1.3.3)\n",
      "Requirement already satisfied: async-timeout<5.0,>=4.0.0a3 in /Library/Frameworks/Python.framework/Versions/3.10/lib/python3.10/site-packages (from aiohttp->datasets>=2.0.0->evaluate) (4.0.2)\n",
      "Requirement already satisfied: six>=1.5 in /Library/Frameworks/Python.framework/Versions/3.10/lib/python3.10/site-packages (from python-dateutil>=2.8.1->pandas->evaluate) (1.16.0)\n",
      "Installing collected packages: evaluate\n",
      "Successfully installed evaluate-0.4.0\n",
      "mkdir: data: File exists\n"
     ]
    }
   ],
   "source": [
    "!git clone https://github.com/tatsu-lab/stanford_alpaca.git\n",
    "!pip install   protoc   --upgrade\n",
    "!pip install   protobuf   --upgrade\n",
    "!pip install protobuf==3.20.*\n",
    "!pip install evaluate\n",
    "!mkdir data"
   ]
  },
  {
   "cell_type": "markdown",
   "id": "0ed9c166",
   "metadata": {},
   "source": [
    "We clone the alpaca git repository.  evaluate is needed for the rouge metric."
   ]
  },
  {
   "cell_type": "code",
   "execution_count": 3,
   "id": "df466c82",
   "metadata": {},
   "outputs": [
    {
     "name": "stdout",
     "output_type": "stream",
     "text": [
      "{'instruction': 'Explain the significance of the provided historical event.', 'input': 'Magna Carta', 'output': 'The Magna Carta was a charter of rights agreed to by King John of England in 1215. The document limited the powers of the monarchy and served as important precedent for the rule of law. It established unprecedented rights of the individual, such as the right to a fair trial and freedom from arbitrary imprisonment. The Magna Carta is widely considered the inspiration for the US Constitution and other important documents throughout history.'}\n"
     ]
    }
   ],
   "source": [
    "import json\n",
    "with open(\"stanford_alpaca/alpaca_data.json\") as file:\n",
    "    jj = json.loads(file.read() )\n",
    "\n",
    "jjout = []\n",
    "for i in jj:\n",
    "    jjout.append({\"input\": i[\"instruction\"] + \" \" + i[\"input\"], \"output\": i[\"output\"]})\n",
    "\n",
    "\n",
    "with open(\"data/train.json\", \"w\") as file:\n",
    "    file.write(json.dumps(jjout[100:15000])) # Trim to 15000 for small GPUs.  \n",
    "\n",
    "with open(\"data/test.json\", \"w\") as file:\n",
    "    file.write(json.dumps(jjout[0:100]))\n",
    "\n",
    "\n",
    "from random import randrange\n",
    "sample = jj[randrange(len(jj))]\n",
    "print(sample)\n"
   ]
  },
  {
   "cell_type": "markdown",
   "id": "819b2f8c",
   "metadata": {},
   "source": [
    "We load the inputs and outputs from the Alpaca dataset into a JSON dict.  We combine the fields input and instruction together, and write out the dataset.  We make the first 100 be our test set.  We ouput an example so we know what the data looks like."
   ]
  },
  {
   "cell_type": "code",
   "execution_count": 4,
   "id": "b57f2750",
   "metadata": {},
   "outputs": [
    {
     "data": {
      "application/vnd.jupyter.widget-view+json": {
       "model_id": "04f23c09dec3485a9c117eb62d91cbb3",
       "version_major": 2,
       "version_minor": 0
      },
      "text/plain": [
       "Downloading (…)okenizer_config.json:   0%|          | 0.00/2.54k [00:00<?, ?B/s]"
      ]
     },
     "metadata": {},
     "output_type": "display_data"
    },
    {
     "data": {
      "application/vnd.jupyter.widget-view+json": {
       "model_id": "0ea29c26b19f42649a2a70574639b413",
       "version_major": 2,
       "version_minor": 0
      },
      "text/plain": [
       "Downloading spiece.model:   0%|          | 0.00/792k [00:00<?, ?B/s]"
      ]
     },
     "metadata": {},
     "output_type": "display_data"
    },
    {
     "data": {
      "application/vnd.jupyter.widget-view+json": {
       "model_id": "ebc1a96431ad4c59aceaea7a2414c80d",
       "version_major": 2,
       "version_minor": 0
      },
      "text/plain": [
       "Downloading (…)/main/tokenizer.json:   0%|          | 0.00/2.42M [00:00<?, ?B/s]"
      ]
     },
     "metadata": {},
     "output_type": "display_data"
    },
    {
     "data": {
      "application/vnd.jupyter.widget-view+json": {
       "model_id": "56e57a8bd17f460fb29f0d5c63a381fd",
       "version_major": 2,
       "version_minor": 0
      },
      "text/plain": [
       "Downloading (…)cial_tokens_map.json:   0%|          | 0.00/2.20k [00:00<?, ?B/s]"
      ]
     },
     "metadata": {},
     "output_type": "display_data"
    },
    {
     "name": "stderr",
     "output_type": "stream",
     "text": [
      "/home/ubuntu/.local/lib/python3.8/site-packages/pandas/core/computation/expressions.py:20: UserWarning: Pandas requires version '2.7.3' or newer of 'numexpr' (version '2.7.1' currently installed).\n",
      "  from pandas.core.computation.check import NUMEXPR_INSTALLED\n"
     ]
    },
    {
     "name": "stdout",
     "output_type": "stream",
     "text": [
      "Downloading and preparing dataset json/data to /home/ubuntu/.cache/huggingface/datasets/json/data-0e6b99dc5ee550a6/0.0.0/0f7e3662623656454fcd2b650f34e886a7db4b9104504885bd462096cc7a9f51...\n"
     ]
    },
    {
     "data": {
      "application/vnd.jupyter.widget-view+json": {
       "model_id": "12d46e75c0774ca98e240d8d7f9d8471",
       "version_major": 2,
       "version_minor": 0
      },
      "text/plain": [
       "Downloading data files:   0%|          | 0/2 [00:00<?, ?it/s]"
      ]
     },
     "metadata": {},
     "output_type": "display_data"
    },
    {
     "data": {
      "application/vnd.jupyter.widget-view+json": {
       "model_id": "10f420fa2bc74dc6ab544a8bea7d0ca9",
       "version_major": 2,
       "version_minor": 0
      },
      "text/plain": [
       "Extracting data files:   0%|          | 0/2 [00:00<?, ?it/s]"
      ]
     },
     "metadata": {},
     "output_type": "display_data"
    },
    {
     "data": {
      "application/vnd.jupyter.widget-view+json": {
       "model_id": "",
       "version_major": 2,
       "version_minor": 0
      },
      "text/plain": [
       "Generating train split: 0 examples [00:00, ? examples/s]"
      ]
     },
     "metadata": {},
     "output_type": "display_data"
    },
    {
     "data": {
      "application/vnd.jupyter.widget-view+json": {
       "model_id": "",
       "version_major": 2,
       "version_minor": 0
      },
      "text/plain": [
       "Generating test split: 0 examples [00:00, ? examples/s]"
      ]
     },
     "metadata": {},
     "output_type": "display_data"
    },
    {
     "name": "stdout",
     "output_type": "stream",
     "text": [
      "Dataset json downloaded and prepared to /home/ubuntu/.cache/huggingface/datasets/json/data-0e6b99dc5ee550a6/0.0.0/0f7e3662623656454fcd2b650f34e886a7db4b9104504885bd462096cc7a9f51. Subsequent calls will reuse this data.\n"
     ]
    },
    {
     "data": {
      "application/vnd.jupyter.widget-view+json": {
       "model_id": "29d85b07f3e646659285a2e37cd5bac7",
       "version_major": 2,
       "version_minor": 0
      },
      "text/plain": [
       "  0%|          | 0/2 [00:00<?, ?it/s]"
      ]
     },
     "metadata": {},
     "output_type": "display_data"
    },
    {
     "data": {
      "application/vnd.jupyter.widget-view+json": {
       "model_id": "",
       "version_major": 2,
       "version_minor": 0
      },
      "text/plain": [
       "Map:   0%|          | 0/15000 [00:00<?, ? examples/s]"
      ]
     },
     "metadata": {},
     "output_type": "display_data"
    },
    {
     "name": "stdout",
     "output_type": "stream",
     "text": [
      "Max source length: 321\n"
     ]
    },
    {
     "data": {
      "application/vnd.jupyter.widget-view+json": {
       "model_id": "",
       "version_major": 2,
       "version_minor": 0
      },
      "text/plain": [
       "Map:   0%|          | 0/15000 [00:00<?, ? examples/s]"
      ]
     },
     "metadata": {},
     "output_type": "display_data"
    },
    {
     "name": "stdout",
     "output_type": "stream",
     "text": [
      "Max target length: 512\n"
     ]
    }
   ],
   "source": [
    "from transformers import AutoTokenizer, AutoModelForSeq2SeqLM\n",
    "\n",
    "model_id=\"google/flan-t5-base\"\n",
    "\n",
    "# Load tokenizer of FLAN-t5-large\n",
    "tokenizer = AutoTokenizer.from_pretrained(model_id)\n",
    "\n",
    "\n",
    "\n",
    "from datasets import load_dataset\n",
    "\n",
    "\n",
    "data_files = {\"train\": \"train.json\", \"test\": \"test.json\"}\n",
    "dataset = load_dataset(\"data\", data_files=data_files)\n",
    "\n",
    "\n",
    "#dataset = load_dataset(\"json\", data_files=\"jj1000.json\")\n",
    "\n",
    "\n",
    "\n",
    "# The maximum total input sequence length after tokenization.\n",
    "# Sequences longer than this will be truncated, sequences shorter will be padded.\n",
    "\n",
    "tokenized_inputs = dataset['train'].map(lambda x: tokenizer(x[\"input\"], truncation=True), batched=True, remove_columns=[\"input\", \"output\"])\n",
    "#tokenized_inputs = list(map(lambda x: tokenizer( (x[ \"instruction\"] + \" \" + x[\"input\"])[0:510]  ), jj))\n",
    "\n",
    "max_source_length = max([len(x) for x in tokenized_inputs[\"input_ids\"]])\n",
    "print(f\"Max source length: {max_source_length}\")\n",
    "\n",
    "# The maximum total sequence length for target text after tokenization.\n",
    "# Sequences longer than this will be truncated, sequences shorter will be padded.\"\n",
    "tokenized_targets = dataset['train'].map(lambda x: tokenizer(x[\"output\"], truncation=True), batched=True, remove_columns=[  \"input\", \"output\" ])\n",
    "\n",
    "#tokenized_targets = list(map(lambda x: tokenizer(x[\"output\"][0:510]), jj))\n",
    "max_target_length = max([len(x) for x in tokenized_targets[\"input_ids\"]])\n",
    "print(f\"Max target length: {max_target_length}\")\n"
   ]
  },
  {
   "cell_type": "markdown",
   "id": "8f83c72a",
   "metadata": {},
   "source": [
    "We load the model from huggingface.  We load the files we made in to a dataset object and measure the max lengths of the input and output, which we will need later. "
   ]
  },
  {
   "cell_type": "code",
   "execution_count": 5,
   "id": "ca2a953e",
   "metadata": {},
   "outputs": [
    {
     "data": {
      "application/vnd.jupyter.widget-view+json": {
       "model_id": "",
       "version_major": 2,
       "version_minor": 0
      },
      "text/plain": [
       "Map:   0%|          | 0/15000 [00:00<?, ? examples/s]"
      ]
     },
     "metadata": {},
     "output_type": "display_data"
    },
    {
     "data": {
      "application/vnd.jupyter.widget-view+json": {
       "model_id": "",
       "version_major": 2,
       "version_minor": 0
      },
      "text/plain": [
       "Map:   0%|          | 0/100 [00:00<?, ? examples/s]"
      ]
     },
     "metadata": {},
     "output_type": "display_data"
    },
    {
     "name": "stdout",
     "output_type": "stream",
     "text": [
      "Keys of tokenized dataset: ['input_ids', 'attention_mask', 'labels']\n"
     ]
    }
   ],
   "source": [
    "\n",
    "\n",
    "def preprocess_function(sample,padding=\"max_length\"):\n",
    "    # add prefix to the input for t5\n",
    "    inputs = [item for item in sample[\"input\"]]\n",
    "\n",
    "    # tokenize inputs\n",
    "    model_inputs = tokenizer(inputs, max_length=max_source_length, padding=padding, truncation=True)\n",
    "\n",
    "    # Tokenize targets with the `text_target` keyword argument\n",
    "    labels = tokenizer(text_target=sample[\"output\"], max_length=max_target_length, padding=padding, truncation=True)\n",
    "\n",
    "    # If we are padding here, replace all tokenizer.pad_token_id in the labels by -100 when we want to ignore\n",
    "    # padding in the loss.\n",
    "    if padding == \"max_length\":\n",
    "        labels[\"input_ids\"] = [\n",
    "            [(l if l != tokenizer.pad_token_id else -100) for l in label] for label in labels[\"input_ids\"]\n",
    "        ]\n",
    "\n",
    "    model_inputs[\"labels\"] = labels[\"input_ids\"]\n",
    "    return model_inputs\n",
    "\n",
    "tokenized_dataset = dataset.map(preprocess_function, batched=True, remove_columns=[\"input\", \"output\"])\n",
    "print(f\"Keys of tokenized dataset: {list(tokenized_dataset['train'].features)}\")\n"
   ]
  },
  {
   "cell_type": "markdown",
   "id": "62972541",
   "metadata": {},
   "source": [
    "We write a function that tokenizes, that is, turns each word into a vector of numbers.   This is where we use the max lengths."
   ]
  },
  {
   "cell_type": "code",
   "execution_count": 6,
   "id": "43dc8487",
   "metadata": {},
   "outputs": [
    {
     "data": {
      "application/vnd.jupyter.widget-view+json": {
       "model_id": "82b9599bd5ea4ec6bf644f8bf8ac322b",
       "version_major": 2,
       "version_minor": 0
      },
      "text/plain": [
       "Downloading (…)lve/main/config.json:   0%|          | 0.00/1.40k [00:00<?, ?B/s]"
      ]
     },
     "metadata": {},
     "output_type": "display_data"
    },
    {
     "data": {
      "application/vnd.jupyter.widget-view+json": {
       "model_id": "af1d4811a9324d3ca221aca0f2614933",
       "version_major": 2,
       "version_minor": 0
      },
      "text/plain": [
       "Downloading pytorch_model.bin:   0%|          | 0.00/990M [00:00<?, ?B/s]"
      ]
     },
     "metadata": {},
     "output_type": "display_data"
    },
    {
     "data": {
      "application/vnd.jupyter.widget-view+json": {
       "model_id": "76b430b26e1a450584578d6ca05a467a",
       "version_major": 2,
       "version_minor": 0
      },
      "text/plain": [
       "Downloading (…)neration_config.json:   0%|          | 0.00/147 [00:00<?, ?B/s]"
      ]
     },
     "metadata": {},
     "output_type": "display_data"
    },
    {
     "name": "stderr",
     "output_type": "stream",
     "text": [
      "[nltk_data] Downloading package punkt to /home/ubuntu/nltk_data...\n",
      "[nltk_data]   Unzipping tokenizers/punkt.zip.\n"
     ]
    },
    {
     "data": {
      "application/vnd.jupyter.widget-view+json": {
       "model_id": "06ed7f5ed6564bcca6f95c7ba44ded22",
       "version_major": 2,
       "version_minor": 0
      },
      "text/plain": [
       "Downloading builder script:   0%|          | 0.00/6.27k [00:00<?, ?B/s]"
      ]
     },
     "metadata": {},
     "output_type": "display_data"
    }
   ],
   "source": [
    "\n",
    "from transformers import AutoModelForSeq2SeqLM\n",
    "\n",
    "# huggingface hub model id\n",
    "model_id=\"google/flan-t5-base\"\n",
    "\n",
    "# load model from the hub\n",
    "model = AutoModelForSeq2SeqLM.from_pretrained(model_id)\n",
    "\n",
    "import evaluate\n",
    "import nltk\n",
    "import numpy as np\n",
    "from nltk.tokenize import sent_tokenize\n",
    "nltk.download(\"punkt\")\n",
    "\n",
    "# Metric\n",
    "metric = evaluate.load(\"rouge\")\n",
    "\n",
    "# helper function to postprocess text\n",
    "def postprocess_text(preds, labels):\n",
    "    preds = [pred.strip() for pred in preds]\n",
    "    labels = [label.strip() for label in labels]\n",
    "\n",
    "    # rougeLSum expects newline after each sentence\n",
    "    preds = [\"\\n\".join(sent_tokenize(pred)) for pred in preds]\n",
    "    labels = [\"\\n\".join(sent_tokenize(label)) for label in labels]\n",
    "\n",
    "    return preds, labels\n",
    "\n",
    "def compute_metrics(eval_preds):\n",
    "    preds, labels = eval_preds\n",
    "    if isinstance(preds, tuple):\n",
    "        preds = preds[0]\n",
    "    decoded_preds = tokenizer.batch_decode(preds, skip_special_tokens=True)\n",
    "    # Replace -100 in the labels as we can't decode them.\n",
    "    labels = np.where(labels != -100, labels, tokenizer.pad_token_id)\n",
    "    decoded_labels = tokenizer.batch_decode(labels, skip_special_tokens=True)\n",
    "\n",
    "    # Some simple post-processing\n",
    "    decoded_preds, decoded_labels = postprocess_text(decoded_preds, decoded_labels)\n",
    "\n",
    "    result = metric.compute(predictions=decoded_preds, references=decoded_labels, use_stemmer=True)\n",
    "    result = {k: round(v * 100, 4) for k, v in result.items()}\n",
    "    prediction_lens = [np.count_nonzero(pred != tokenizer.pad_token_id) for pred in preds]\n",
    "    result[\"gen_len\"] = np.mean(prediction_lens)\n",
    "    return result"
   ]
  },
  {
   "cell_type": "code",
   "execution_count": null,
   "id": "e74c4dd3",
   "metadata": {},
   "outputs": [],
   "source": [
    "This is some code so we can see our progress as we go.  It measures the rouge score over the test set."
   ]
  },
  {
   "cell_type": "code",
   "execution_count": 7,
   "id": "29a214f4",
   "metadata": {},
   "outputs": [],
   "source": [
    "\n",
    "from transformers import DataCollatorForSeq2Seq\n",
    "\n",
    "# we want to ignore tokenizer pad token in the loss\n",
    "label_pad_token_id = -100\n",
    "# Data collator\n",
    "data_collator = DataCollatorForSeq2Seq(\n",
    "    tokenizer,\n",
    "    model=model,\n",
    "    label_pad_token_id=label_pad_token_id,\n",
    "    pad_to_multiple_of=8\n",
    ")\n",
    "\n",
    "\n",
    "from huggingface_hub import HfFolder\n",
    "from transformers import Seq2SeqTrainer, Seq2SeqTrainingArguments\n",
    "\n",
    "# Hugging Face repository id\n",
    "repository_id = f\"{model_id.split('/')[1]}-alpaca\"\n",
    "\n",
    "# Define training args\n",
    "training_args = Seq2SeqTrainingArguments(\n",
    "    output_dir=repository_id,\n",
    "    per_device_train_batch_size=8,\n",
    "    per_device_eval_batch_size=8,\n",
    "    predict_with_generate=True,\n",
    "    fp16=False, # Overflows with fp16\n",
    "    learning_rate=5e-5,\n",
    "    num_train_epochs=5,\n",
    "    # logging & evaluation strategies\n",
    "    logging_dir=f\"{repository_id}/logs\",\n",
    "    logging_strategy=\"steps\",\n",
    "    logging_steps=500,\n",
    "    evaluation_strategy=\"epoch\",\n",
    "    save_strategy=\"epoch\",\n",
    "    save_total_limit=2,\n",
    "    load_best_model_at_end=True,\n",
    "    # metric_for_best_model=\"overall_f1\",\n",
    "    # push to hub parameters\n",
    "    report_to=\"tensorboard\",\n",
    "    push_to_hub=False,\n",
    "    hub_strategy=\"every_save\",\n",
    "    hub_model_id=repository_id,\n",
    "    hub_token=HfFolder.get_token(),\n",
    ")\n",
    "\n",
    "# Create Trainer instance\n",
    "trainer = Seq2SeqTrainer(\n",
    "    model=model,\n",
    "    args=training_args,\n",
    "    train_dataset=tokenized_dataset[\"train\"],\n",
    "    eval_dataset=tokenized_dataset[\"test\"],\n",
    "    compute_metrics=compute_metrics,\n",
    ")\n"
   ]
  },
  {
   "cell_type": "markdown",
   "id": "11d2feaa",
   "metadata": {},
   "source": [
    "This is where we set the parameters for our training.  The batch size controls how many we samples we process at a time. Larger values make things run faster at the cost of using more memory. The learning rate is usually about 1e-5. We run over the data 5 times (epochs).  We save our results every 500 steps, and only keep two copies.  The hub fields control what we push to HiggingFace, but we have not logged in so this will no work.\n",
    "\n",
    "The give the trainer the test and train datasets, the function to computre our rouge score, and the model.\n",
    "\n",
    "We hope to get our training loss to about 2.02, our validation loss to a similar number 1.73, and the Rouge scores to 40, 36, 37.  Higher is better for scores and worse for loss."
   ]
  },
  {
   "cell_type": "code",
   "execution_count": 8,
   "id": "cbf659bc",
   "metadata": {},
   "outputs": [
    {
     "name": "stderr",
     "output_type": "stream",
     "text": [
      "/home/ubuntu/.local/lib/python3.8/site-packages/transformers/optimization.py:391: FutureWarning: This implementation of AdamW is deprecated and will be removed in a future version. Use the PyTorch implementation torch.optim.AdamW instead, or set `no_deprecation_warning=True` to disable this warning\n",
      "  warnings.warn(\n"
     ]
    },
    {
     "data": {
      "text/html": [
       "\n",
       "    <div>\n",
       "      \n",
       "      <progress value='9375' max='9375' style='width:300px; height:20px; vertical-align: middle;'></progress>\n",
       "      [9375/9375 1:24:25, Epoch 5/5]\n",
       "    </div>\n",
       "    <table border=\"1\" class=\"dataframe\">\n",
       "  <thead>\n",
       " <tr style=\"text-align: left;\">\n",
       "      <th>Epoch</th>\n",
       "      <th>Training Loss</th>\n",
       "      <th>Validation Loss</th>\n",
       "      <th>Rouge1</th>\n",
       "      <th>Rouge2</th>\n",
       "      <th>Rougel</th>\n",
       "      <th>Rougelsum</th>\n",
       "      <th>Gen Len</th>\n",
       "    </tr>\n",
       "  </thead>\n",
       "  <tbody>\n",
       "    <tr>\n",
       "      <td>1</td>\n",
       "      <td>2.313400</td>\n",
       "      <td>1.932085</td>\n",
       "      <td>39.362700</td>\n",
       "      <td>23.093300</td>\n",
       "      <td>36.286700</td>\n",
       "      <td>37.048100</td>\n",
       "      <td>15.620000</td>\n",
       "    </tr>\n",
       "    <tr>\n",
       "      <td>2</td>\n",
       "      <td>2.192800</td>\n",
       "      <td>1.834956</td>\n",
       "      <td>38.928100</td>\n",
       "      <td>22.787300</td>\n",
       "      <td>35.742100</td>\n",
       "      <td>36.393700</td>\n",
       "      <td>15.650000</td>\n",
       "    </tr>\n",
       "    <tr>\n",
       "      <td>3</td>\n",
       "      <td>2.114200</td>\n",
       "      <td>1.780069</td>\n",
       "      <td>39.119000</td>\n",
       "      <td>23.221900</td>\n",
       "      <td>35.656100</td>\n",
       "      <td>36.577200</td>\n",
       "      <td>15.580000</td>\n",
       "    </tr>\n",
       "    <tr>\n",
       "      <td>4</td>\n",
       "      <td>2.054600</td>\n",
       "      <td>1.746920</td>\n",
       "      <td>38.917200</td>\n",
       "      <td>24.386900</td>\n",
       "      <td>36.085200</td>\n",
       "      <td>37.089900</td>\n",
       "      <td>15.460000</td>\n",
       "    </tr>\n",
       "    <tr>\n",
       "      <td>5</td>\n",
       "      <td>2.026800</td>\n",
       "      <td>1.733723</td>\n",
       "      <td>38.769300</td>\n",
       "      <td>24.420000</td>\n",
       "      <td>36.230500</td>\n",
       "      <td>36.924800</td>\n",
       "      <td>15.360000</td>\n",
       "    </tr>\n",
       "  </tbody>\n",
       "</table><p>"
      ],
      "text/plain": [
       "<IPython.core.display.HTML object>"
      ]
     },
     "metadata": {},
     "output_type": "display_data"
    },
    {
     "data": {
      "text/plain": [
       "TrainOutput(global_step=9375, training_loss=2.14437248046875, metrics={'train_runtime': 5067.752, 'train_samples_per_second': 14.799, 'train_steps_per_second': 1.85, 'total_flos': 3.21983071488e+16, 'train_loss': 2.14437248046875, 'epoch': 5.0})"
      ]
     },
     "execution_count": 8,
     "metadata": {},
     "output_type": "execute_result"
    }
   ],
   "source": [
    "\n",
    "trainer.train()\n"
   ]
  },
  {
   "cell_type": "code",
   "execution_count": 26,
   "id": "d646e49f",
   "metadata": {},
   "outputs": [],
   "source": [
    "def f(str):\n",
    "    inputs = tokenizer(str, return_tensors=\"pt\").input_ids.to(\"cuda\")\n",
    "    outputs = model.generate(inputs, max_length=200,\n",
    "                             num_beams=10,\n",
    "                             repetition_penalty=2.5,\n",
    "                             length_penalty=1.0,\n",
    "                             early_stopping=True,\n",
    "                             no_repeat_ngram_size=2,\n",
    "                             use_cache=True,\n",
    "                             do_sample = True,\n",
    "                             temperature = 1.5,\n",
    "                             top_k = 50,\n",
    "                             top_p = 0.95)\n",
    "    \n",
    "    return tokenizer.decode(outputs[0][1:-1])"
   ]
  },
  {
   "cell_type": "code",
   "execution_count": 27,
   "id": "0e3e6bea",
   "metadata": {},
   "outputs": [
    {
     "data": {
      "text/plain": [
       "'The capital of Spain is Madrid.'"
      ]
     },
     "execution_count": 27,
     "metadata": {},
     "output_type": "execute_result"
    }
   ],
   "source": [
    "f(\"What is the capital of Spain?\")"
   ]
  },
  {
   "cell_type": "markdown",
   "id": "6bdd29ab",
   "metadata": {},
   "source": [
    "This will launch a web page on port 8080."
   ]
  },
  {
   "cell_type": "code",
   "execution_count": 30,
   "id": "aaeaccdc",
   "metadata": {},
   "outputs": [
    {
     "name": "stdout",
     "output_type": "stream",
     "text": [
      "Server started http://0.0.0.0:8080\n",
      "got query /query?input=Generate+a+brainstorm+list+of+things+related+to+the+topic+of+artificial+intelligence.\n",
      "Init history is  \n",
      "q Generate a brainstorm list of things related to the topic of artificial intelligence.\n",
      "ans 1. Artificial Intelligence (AI) - What Is It? 2. How Does AI Technology Work? 3. What Are the Benefits and Consequences of AI? 4. How Can AI be Utilized to Improve Customer Service? 5. How Should AI Be Used for Education? 6. How Do AI Technologies Impact Business in the 21st Century? 7. How Will AI Help Businesses In The 2025 World? 8. How Big is AI's Impact on Banking, Retail, and Consumer Markets? 9. How Ease of Implementing AI has Shaped Our Future. 10. How We Can Make Achieving Our Vision Possible?\n",
      "history is  \n",
      "got query /\n",
      "Init history is  <p><i>Generate a brainstorm list of things related to the topic of artificial intelligence.</i><p>1. Artificial Intelligence (AI) - What Is It? 2. How Does AI Technology Work? 3. What Are the Benefits and Consequences of AI? 4. How Can AI be Utilized to Improve Customer Service? 5. How Should AI Be Used for Education? 6. How Do AI Technologies Impact Business in the 21st Century? 7. How Will AI Help Businesses In The 2025 World? 8. How Big is AI's Impact on Banking, Retail, and Consumer Markets? 9. How Ease of Implementing AI has Shaped Our Future. 10. How We Can Make Achieving Our Vision Possible?\n"
     ]
    },
    {
     "name": "stderr",
     "output_type": "stream",
     "text": [
      "76.21.126.113 - - [17/Mar/2023 20:49:34] \"GET /query?input=Generate+a+brainstorm+list+of+things+related+to+the+topic+of+artificial+intelligence. HTTP/1.1\" 200 -\n",
      "76.21.126.113 - - [17/Mar/2023 20:49:34] \"GET / HTTP/1.1\" 200 -\n"
     ]
    },
    {
     "name": "stdout",
     "output_type": "stream",
     "text": [
      "got query /favicon.ico\n",
      "Init history is  <p><i>Generate a brainstorm list of things related to the topic of artificial intelligence.</i><p>1. Artificial Intelligence (AI) - What Is It? 2. How Does AI Technology Work? 3. What Are the Benefits and Consequences of AI? 4. How Can AI be Utilized to Improve Customer Service? 5. How Should AI Be Used for Education? 6. How Do AI Technologies Impact Business in the 21st Century? 7. How Will AI Help Businesses In The 2025 World? 8. How Big is AI's Impact on Banking, Retail, and Consumer Markets? 9. How Ease of Implementing AI has Shaped Our Future. 10. How We Can Make Achieving Our Vision Possible?\n"
     ]
    },
    {
     "name": "stderr",
     "output_type": "stream",
     "text": [
      "76.21.126.113 - - [17/Mar/2023 20:49:34] \"GET /favicon.ico HTTP/1.1\" 200 -\n"
     ]
    },
    {
     "name": "stdout",
     "output_type": "stream",
     "text": [
      "got query /query?input=What+is+the+capital+of+Spain%3F\n",
      "Init history is  <p><i>Generate a brainstorm list of things related to the topic of artificial intelligence.</i><p>1. Artificial Intelligence (AI) - What Is It? 2. How Does AI Technology Work? 3. What Are the Benefits and Consequences of AI? 4. How Can AI be Utilized to Improve Customer Service? 5. How Should AI Be Used for Education? 6. How Do AI Technologies Impact Business in the 21st Century? 7. How Will AI Help Businesses In The 2025 World? 8. How Big is AI's Impact on Banking, Retail, and Consumer Markets? 9. How Ease of Implementing AI has Shaped Our Future. 10. How We Can Make Achieving Our Vision Possible?\n",
      "q What is the capital of Spain?\n",
      "ans The capital of Spain is Madrid.\n",
      "history is  <p><i>Generate a brainstorm list of things related to the topic of artificial intelligence.</i><p>1. Artificial Intelligence (AI) - What Is It? 2. How Does AI Technology Work? 3. What Are the Benefits and Consequences of AI? 4. How Can AI be Utilized to Improve Customer Service? 5. How Should AI Be Used for Education? 6. How Do AI Technologies Impact Business in the 21st Century? 7. How Will AI Help Businesses In The 2025 World? 8. How Big is AI's Impact on Banking, Retail, and Consumer Markets? 9. How Ease of Implementing AI has Shaped Our Future. 10. How We Can Make Achieving Our Vision Possible?\n",
      "got query /query?input=What+is+the+capital+of+Spain%3F\n",
      "Init history is  <p><i>Generate a brainstorm list of things related to the topic of artificial intelligence.</i><p>1. Artificial Intelligence (AI) - What Is It? 2. How Does AI Technology Work? 3. What Are the Benefits and Consequences of AI? 4. How Can AI be Utilized to Improve Customer Service? 5. How Should AI Be Used for Education? 6. How Do AI Technologies Impact Business in the 21st Century? 7. How Will AI Help Businesses In The 2025 World? 8. How Big is AI's Impact on Banking, Retail, and Consumer Markets? 9. How Ease of Implementing AI has Shaped Our Future. 10. How We Can Make Achieving Our Vision Possible?<p><i>What is the capital of Spain?</i><p>The capital of Spain is Madrid.\n",
      "q What is the capital of Spain?\n"
     ]
    },
    {
     "name": "stderr",
     "output_type": "stream",
     "text": [
      "76.21.126.113 - - [17/Mar/2023 20:49:52] \"GET /query?input=What+is+the+capital+of+Spain%3F HTTP/1.1\" 200 -\n",
      "76.21.126.113 - - [17/Mar/2023 20:49:52] \"GET /query?input=What+is+the+capital+of+Spain%3F HTTP/1.1\" 200 -\n"
     ]
    },
    {
     "name": "stdout",
     "output_type": "stream",
     "text": [
      "ans The capital of Spain is Madrid.\n",
      "history is  <p><i>Generate a brainstorm list of things related to the topic of artificial intelligence.</i><p>1. Artificial Intelligence (AI) - What Is It? 2. How Does AI Technology Work? 3. What Are the Benefits and Consequences of AI? 4. How Can AI be Utilized to Improve Customer Service? 5. How Should AI Be Used for Education? 6. How Do AI Technologies Impact Business in the 21st Century? 7. How Will AI Help Businesses In The 2025 World? 8. How Big is AI's Impact on Banking, Retail, and Consumer Markets? 9. How Ease of Implementing AI has Shaped Our Future. 10. How We Can Make Achieving Our Vision Possible?<p><i>What is the capital of Spain?</i><p>The capital of Spain is Madrid.\n",
      "got query /favicon.ico\n",
      "Init history is  <p><i>Generate a brainstorm list of things related to the topic of artificial intelligence.</i><p>1. Artificial Intelligence (AI) - What Is It? 2. How Does AI Technology Work? 3. What Are the Benefits and Consequences of AI? 4. How Can AI be Utilized to Improve Customer Service? 5. How Should AI Be Used for Education? 6. How Do AI Technologies Impact Business in the 21st Century? 7. How Will AI Help Businesses In The 2025 World? 8. How Big is AI's Impact on Banking, Retail, and Consumer Markets? 9. How Ease of Implementing AI has Shaped Our Future. 10. How We Can Make Achieving Our Vision Possible?<p><i>What is the capital of Spain?</i><p>The capital of Spain is Madrid.<p><i>What is the capital of Spain?</i><p>The capital of Spain is Madrid.\n"
     ]
    },
    {
     "name": "stderr",
     "output_type": "stream",
     "text": [
      "76.21.126.113 - - [17/Mar/2023 20:49:52] \"GET /favicon.ico HTTP/1.1\" 200 -\n"
     ]
    },
    {
     "name": "stdout",
     "output_type": "stream",
     "text": [
      "got query /query?input=What+are+the+best+VC+firms%3F\n",
      "Init history is  <p><i>Generate a brainstorm list of things related to the topic of artificial intelligence.</i><p>1. Artificial Intelligence (AI) - What Is It? 2. How Does AI Technology Work? 3. What Are the Benefits and Consequences of AI? 4. How Can AI be Utilized to Improve Customer Service? 5. How Should AI Be Used for Education? 6. How Do AI Technologies Impact Business in the 21st Century? 7. How Will AI Help Businesses In The 2025 World? 8. How Big is AI's Impact on Banking, Retail, and Consumer Markets? 9. How Ease of Implementing AI has Shaped Our Future. 10. How We Can Make Achieving Our Vision Possible?<p><i>What is the capital of Spain?</i><p>The capital of Spain is Madrid.<p><i>What is the capital of Spain?</i><p>The capital of Spain is Madrid.\n",
      "q What are the best VC firms?\n",
      "ans The best VC firms are those that have the expertise and resources to launch innovative products or services. Some of these companies can include Microsoft, Apple, Google, Amazon, and others. However, they should be careful not to take shortcuts in their decision-making process. It is important to make sure that the company understands its client’s needs and expectations before embarking on any new venture.\n",
      "history is  <p><i>Generate a brainstorm list of things related to the topic of artificial intelligence.</i><p>1. Artificial Intelligence (AI) - What Is It? 2. How Does AI Technology Work? 3. What Are the Benefits and Consequences of AI? 4. How Can AI be Utilized to Improve Customer Service? 5. How Should AI Be Used for Education? 6. How Do AI Technologies Impact Business in the 21st Century? 7. How Will AI Help Businesses In The 2025 World? 8. How Big is AI's Impact on Banking, Retail, and Consumer Markets? 9. How Ease of Implementing AI has Shaped Our Future. 10. How We Can Make Achieving Our Vision Possible?<p><i>What is the capital of Spain?</i><p>The capital of Spain is Madrid.<p><i>What is the capital of Spain?</i><p>The capital of Spain is Madrid.\n"
     ]
    },
    {
     "name": "stderr",
     "output_type": "stream",
     "text": [
      "76.21.126.113 - - [17/Mar/2023 20:49:58] \"GET /query?input=What+are+the+best+VC+firms%3F HTTP/1.1\" 200 -\n"
     ]
    },
    {
     "name": "stdout",
     "output_type": "stream",
     "text": [
      "got query /favicon.ico\n",
      "Init history is  <p><i>Generate a brainstorm list of things related to the topic of artificial intelligence.</i><p>1. Artificial Intelligence (AI) - What Is It? 2. How Does AI Technology Work? 3. What Are the Benefits and Consequences of AI? 4. How Can AI be Utilized to Improve Customer Service? 5. How Should AI Be Used for Education? 6. How Do AI Technologies Impact Business in the 21st Century? 7. How Will AI Help Businesses In The 2025 World? 8. How Big is AI's Impact on Banking, Retail, and Consumer Markets? 9. How Ease of Implementing AI has Shaped Our Future. 10. How We Can Make Achieving Our Vision Possible?<p><i>What is the capital of Spain?</i><p>The capital of Spain is Madrid.<p><i>What is the capital of Spain?</i><p>The capital of Spain is Madrid.<p><i>What are the best VC firms?</i><p>The best VC firms are those that have the expertise and resources to launch innovative products or services. Some of these companies can include Microsoft, Apple, Google, Amazon, and others. However, they should be careful not to take shortcuts in their decision-making process. It is important to make sure that the company understands its client’s needs and expectations before embarking on any new venture.\n"
     ]
    },
    {
     "name": "stderr",
     "output_type": "stream",
     "text": [
      "76.21.126.113 - - [17/Mar/2023 20:49:58] \"GET /favicon.ico HTTP/1.1\" 200 -\n"
     ]
    },
    {
     "name": "stdout",
     "output_type": "stream",
     "text": [
      "got query /query?input=Write+down+a+shopping+list+for+a+week.\n",
      "Init history is  <p><i>Generate a brainstorm list of things related to the topic of artificial intelligence.</i><p>1. Artificial Intelligence (AI) - What Is It? 2. How Does AI Technology Work? 3. What Are the Benefits and Consequences of AI? 4. How Can AI be Utilized to Improve Customer Service? 5. How Should AI Be Used for Education? 6. How Do AI Technologies Impact Business in the 21st Century? 7. How Will AI Help Businesses In The 2025 World? 8. How Big is AI's Impact on Banking, Retail, and Consumer Markets? 9. How Ease of Implementing AI has Shaped Our Future. 10. How We Can Make Achieving Our Vision Possible?<p><i>What is the capital of Spain?</i><p>The capital of Spain is Madrid.<p><i>What is the capital of Spain?</i><p>The capital of Spain is Madrid.<p><i>What are the best VC firms?</i><p>The best VC firms are those that have the expertise and resources to launch innovative products or services. Some of these companies can include Microsoft, Apple, Google, Amazon, and others. However, they should be careful not to take shortcuts in their decision-making process. It is important to make sure that the company understands its client’s needs and expectations before embarking on any new venture.\n",
      "q Write down a shopping list for a week.\n",
      "ans Shopping list for a week: 1. Chocolate chips 2. Greek yogurt 3. Apples 4. Peanut butter 5. Nutella 6. Orange juice 7. Brownies 8. Fruits 9. Cheese 10. Oatmeal 11. Bananas\n",
      "history is  <p><i>Generate a brainstorm list of things related to the topic of artificial intelligence.</i><p>1. Artificial Intelligence (AI) - What Is It? 2. How Does AI Technology Work? 3. What Are the Benefits and Consequences of AI? 4. How Can AI be Utilized to Improve Customer Service? 5. How Should AI Be Used for Education? 6. How Do AI Technologies Impact Business in the 21st Century? 7. How Will AI Help Businesses In The 2025 World? 8. How Big is AI's Impact on Banking, Retail, and Consumer Markets? 9. How Ease of Implementing AI has Shaped Our Future. 10. How We Can Make Achieving Our Vision Possible?<p><i>What is the capital of Spain?</i><p>The capital of Spain is Madrid.<p><i>What is the capital of Spain?</i><p>The capital of Spain is Madrid.<p><i>What are the best VC firms?</i><p>The best VC firms are those that have the expertise and resources to launch innovative products or services. Some of these companies can include Microsoft, Apple, Google, Amazon, and others. However, they should be careful not to take shortcuts in their decision-making process. It is important to make sure that the company understands its client’s needs and expectations before embarking on any new venture.\n"
     ]
    },
    {
     "name": "stderr",
     "output_type": "stream",
     "text": [
      "76.21.126.113 - - [17/Mar/2023 20:50:05] \"GET /query?input=Write+down+a+shopping+list+for+a+week. HTTP/1.1\" 200 -\n"
     ]
    },
    {
     "name": "stdout",
     "output_type": "stream",
     "text": [
      "got query /favicon.ico\n",
      "Init history is  <p><i>Generate a brainstorm list of things related to the topic of artificial intelligence.</i><p>1. Artificial Intelligence (AI) - What Is It? 2. How Does AI Technology Work? 3. What Are the Benefits and Consequences of AI? 4. How Can AI be Utilized to Improve Customer Service? 5. How Should AI Be Used for Education? 6. How Do AI Technologies Impact Business in the 21st Century? 7. How Will AI Help Businesses In The 2025 World? 8. How Big is AI's Impact on Banking, Retail, and Consumer Markets? 9. How Ease of Implementing AI has Shaped Our Future. 10. How We Can Make Achieving Our Vision Possible?<p><i>What is the capital of Spain?</i><p>The capital of Spain is Madrid.<p><i>What is the capital of Spain?</i><p>The capital of Spain is Madrid.<p><i>What are the best VC firms?</i><p>The best VC firms are those that have the expertise and resources to launch innovative products or services. Some of these companies can include Microsoft, Apple, Google, Amazon, and others. However, they should be careful not to take shortcuts in their decision-making process. It is important to make sure that the company understands its client’s needs and expectations before embarking on any new venture.<p><i>Write down a shopping list for a week.</i><p>Shopping list for a week: 1. Chocolate chips 2. Greek yogurt 3. Apples 4. Peanut butter 5. Nutella 6. Orange juice 7. Brownies 8. Fruits 9. Cheese 10. Oatmeal 11. Bananas\n"
     ]
    },
    {
     "name": "stderr",
     "output_type": "stream",
     "text": [
      "76.21.126.113 - - [17/Mar/2023 20:50:05] \"GET /favicon.ico HTTP/1.1\" 200 -\n"
     ]
    },
    {
     "name": "stdout",
     "output_type": "stream",
     "text": [
      "got query /query?input=Why+did+Rome+fall%3F\n",
      "Init history is  <p><i>Generate a brainstorm list of things related to the topic of artificial intelligence.</i><p>1. Artificial Intelligence (AI) - What Is It? 2. How Does AI Technology Work? 3. What Are the Benefits and Consequences of AI? 4. How Can AI be Utilized to Improve Customer Service? 5. How Should AI Be Used for Education? 6. How Do AI Technologies Impact Business in the 21st Century? 7. How Will AI Help Businesses In The 2025 World? 8. How Big is AI's Impact on Banking, Retail, and Consumer Markets? 9. How Ease of Implementing AI has Shaped Our Future. 10. How We Can Make Achieving Our Vision Possible?<p><i>What is the capital of Spain?</i><p>The capital of Spain is Madrid.<p><i>What is the capital of Spain?</i><p>The capital of Spain is Madrid.<p><i>What are the best VC firms?</i><p>The best VC firms are those that have the expertise and resources to launch innovative products or services. Some of these companies can include Microsoft, Apple, Google, Amazon, and others. However, they should be careful not to take shortcuts in their decision-making process. It is important to make sure that the company understands its client’s needs and expectations before embarking on any new venture.<p><i>Write down a shopping list for a week.</i><p>Shopping list for a week: 1. Chocolate chips 2. Greek yogurt 3. Apples 4. Peanut butter 5. Nutella 6. Orange juice 7. Brownies 8. Fruits 9. Cheese 10. Oatmeal 11. Bananas\n",
      "q Why did Rome fall?\n",
      "ans Rome fell due to the fall of its capital, Constantinople. The fall resulted in an armed conflict between the Romans and the Ottoman Empire, as well as a series of political and economic changes that took place over the course of the 20th century.\n",
      "history is  <p><i>Generate a brainstorm list of things related to the topic of artificial intelligence.</i><p>1. Artificial Intelligence (AI) - What Is It? 2. How Does AI Technology Work? 3. What Are the Benefits and Consequences of AI? 4. How Can AI be Utilized to Improve Customer Service? 5. How Should AI Be Used for Education? 6. How Do AI Technologies Impact Business in the 21st Century? 7. How Will AI Help Businesses In The 2025 World? 8. How Big is AI's Impact on Banking, Retail, and Consumer Markets? 9. How Ease of Implementing AI has Shaped Our Future. 10. How We Can Make Achieving Our Vision Possible?<p><i>What is the capital of Spain?</i><p>The capital of Spain is Madrid.<p><i>What is the capital of Spain?</i><p>The capital of Spain is Madrid.<p><i>What are the best VC firms?</i><p>The best VC firms are those that have the expertise and resources to launch innovative products or services. Some of these companies can include Microsoft, Apple, Google, Amazon, and others. However, they should be careful not to take shortcuts in their decision-making process. It is important to make sure that the company understands its client’s needs and expectations before embarking on any new venture.<p><i>Write down a shopping list for a week.</i><p>Shopping list for a week: 1. Chocolate chips 2. Greek yogurt 3. Apples 4. Peanut butter 5. Nutella 6. Orange juice 7. Brownies 8. Fruits 9. Cheese 10. Oatmeal 11. Bananas\n"
     ]
    },
    {
     "name": "stderr",
     "output_type": "stream",
     "text": [
      "76.21.126.113 - - [17/Mar/2023 20:53:45] \"GET /query?input=Why+did+Rome+fall%3F HTTP/1.1\" 200 -\n"
     ]
    },
    {
     "name": "stdout",
     "output_type": "stream",
     "text": [
      "got query /favicon.ico\n",
      "Init history is  <p><i>Generate a brainstorm list of things related to the topic of artificial intelligence.</i><p>1. Artificial Intelligence (AI) - What Is It? 2. How Does AI Technology Work? 3. What Are the Benefits and Consequences of AI? 4. How Can AI be Utilized to Improve Customer Service? 5. How Should AI Be Used for Education? 6. How Do AI Technologies Impact Business in the 21st Century? 7. How Will AI Help Businesses In The 2025 World? 8. How Big is AI's Impact on Banking, Retail, and Consumer Markets? 9. How Ease of Implementing AI has Shaped Our Future. 10. How We Can Make Achieving Our Vision Possible?<p><i>What is the capital of Spain?</i><p>The capital of Spain is Madrid.<p><i>What is the capital of Spain?</i><p>The capital of Spain is Madrid.<p><i>What are the best VC firms?</i><p>The best VC firms are those that have the expertise and resources to launch innovative products or services. Some of these companies can include Microsoft, Apple, Google, Amazon, and others. However, they should be careful not to take shortcuts in their decision-making process. It is important to make sure that the company understands its client’s needs and expectations before embarking on any new venture.<p><i>Write down a shopping list for a week.</i><p>Shopping list for a week: 1. Chocolate chips 2. Greek yogurt 3. Apples 4. Peanut butter 5. Nutella 6. Orange juice 7. Brownies 8. Fruits 9. Cheese 10. Oatmeal 11. Bananas<p><i>Why did Rome fall?</i><p>Rome fell due to the fall of its capital, Constantinople. The fall resulted in an armed conflict between the Romans and the Ottoman Empire, as well as a series of political and economic changes that took place over the course of the 20th century.\n"
     ]
    },
    {
     "name": "stderr",
     "output_type": "stream",
     "text": [
      "76.21.126.113 - - [17/Mar/2023 20:53:45] \"GET /favicon.ico HTTP/1.1\" 200 -\n"
     ]
    },
    {
     "name": "stdout",
     "output_type": "stream",
     "text": [
      "got query /query?input=What+are+the+main+differences+between+aerobic+and+anaerobic+exercise%3F+\n",
      "Init history is  <p><i>Generate a brainstorm list of things related to the topic of artificial intelligence.</i><p>1. Artificial Intelligence (AI) - What Is It? 2. How Does AI Technology Work? 3. What Are the Benefits and Consequences of AI? 4. How Can AI be Utilized to Improve Customer Service? 5. How Should AI Be Used for Education? 6. How Do AI Technologies Impact Business in the 21st Century? 7. How Will AI Help Businesses In The 2025 World? 8. How Big is AI's Impact on Banking, Retail, and Consumer Markets? 9. How Ease of Implementing AI has Shaped Our Future. 10. How We Can Make Achieving Our Vision Possible?<p><i>What is the capital of Spain?</i><p>The capital of Spain is Madrid.<p><i>What is the capital of Spain?</i><p>The capital of Spain is Madrid.<p><i>What are the best VC firms?</i><p>The best VC firms are those that have the expertise and resources to launch innovative products or services. Some of these companies can include Microsoft, Apple, Google, Amazon, and others. However, they should be careful not to take shortcuts in their decision-making process. It is important to make sure that the company understands its client’s needs and expectations before embarking on any new venture.<p><i>Write down a shopping list for a week.</i><p>Shopping list for a week: 1. Chocolate chips 2. Greek yogurt 3. Apples 4. Peanut butter 5. Nutella 6. Orange juice 7. Brownies 8. Fruits 9. Cheese 10. Oatmeal 11. Bananas<p><i>Why did Rome fall?</i><p>Rome fell due to the fall of its capital, Constantinople. The fall resulted in an armed conflict between the Romans and the Ottoman Empire, as well as a series of political and economic changes that took place over the course of the 20th century.\n",
      "q What are the main differences between aerobic and anaerobic exercise? \n",
      "ans The main differences between aerobic exercise and anaerobic exercise are the amount of time required to perform a specific task, the intensity of the exercise, and the level of oxygen in the body. Aerobic exercises typically require less than 10 minutes of strenuous physical activity, but can be used for longer-term goals such as strength training or cardiovascular endurance. Additionally, aerobic exercises do not require more than 12 hours of sleep each night, which results in greater fatigue and increased risk of injury.\n",
      "history is  <p><i>Generate a brainstorm list of things related to the topic of artificial intelligence.</i><p>1. Artificial Intelligence (AI) - What Is It? 2. How Does AI Technology Work? 3. What Are the Benefits and Consequences of AI? 4. How Can AI be Utilized to Improve Customer Service? 5. How Should AI Be Used for Education? 6. How Do AI Technologies Impact Business in the 21st Century? 7. How Will AI Help Businesses In The 2025 World? 8. How Big is AI's Impact on Banking, Retail, and Consumer Markets? 9. How Ease of Implementing AI has Shaped Our Future. 10. How We Can Make Achieving Our Vision Possible?<p><i>What is the capital of Spain?</i><p>The capital of Spain is Madrid.<p><i>What is the capital of Spain?</i><p>The capital of Spain is Madrid.<p><i>What are the best VC firms?</i><p>The best VC firms are those that have the expertise and resources to launch innovative products or services. Some of these companies can include Microsoft, Apple, Google, Amazon, and others. However, they should be careful not to take shortcuts in their decision-making process. It is important to make sure that the company understands its client’s needs and expectations before embarking on any new venture.<p><i>Write down a shopping list for a week.</i><p>Shopping list for a week: 1. Chocolate chips 2. Greek yogurt 3. Apples 4. Peanut butter 5. Nutella 6. Orange juice 7. Brownies 8. Fruits 9. Cheese 10. Oatmeal 11. Bananas<p><i>Why did Rome fall?</i><p>Rome fell due to the fall of its capital, Constantinople. The fall resulted in an armed conflict between the Romans and the Ottoman Empire, as well as a series of political and economic changes that took place over the course of the 20th century.\n"
     ]
    },
    {
     "name": "stderr",
     "output_type": "stream",
     "text": [
      "76.21.126.113 - - [17/Mar/2023 20:54:02] \"GET /query?input=What+are+the+main+differences+between+aerobic+and+anaerobic+exercise%3F+ HTTP/1.1\" 200 -\n"
     ]
    },
    {
     "name": "stdout",
     "output_type": "stream",
     "text": [
      "got query /favicon.ico\n",
      "Init history is  <p><i>Generate a brainstorm list of things related to the topic of artificial intelligence.</i><p>1. Artificial Intelligence (AI) - What Is It? 2. How Does AI Technology Work? 3. What Are the Benefits and Consequences of AI? 4. How Can AI be Utilized to Improve Customer Service? 5. How Should AI Be Used for Education? 6. How Do AI Technologies Impact Business in the 21st Century? 7. How Will AI Help Businesses In The 2025 World? 8. How Big is AI's Impact on Banking, Retail, and Consumer Markets? 9. How Ease of Implementing AI has Shaped Our Future. 10. How We Can Make Achieving Our Vision Possible?<p><i>What is the capital of Spain?</i><p>The capital of Spain is Madrid.<p><i>What is the capital of Spain?</i><p>The capital of Spain is Madrid.<p><i>What are the best VC firms?</i><p>The best VC firms are those that have the expertise and resources to launch innovative products or services. Some of these companies can include Microsoft, Apple, Google, Amazon, and others. However, they should be careful not to take shortcuts in their decision-making process. It is important to make sure that the company understands its client’s needs and expectations before embarking on any new venture.<p><i>Write down a shopping list for a week.</i><p>Shopping list for a week: 1. Chocolate chips 2. Greek yogurt 3. Apples 4. Peanut butter 5. Nutella 6. Orange juice 7. Brownies 8. Fruits 9. Cheese 10. Oatmeal 11. Bananas<p><i>Why did Rome fall?</i><p>Rome fell due to the fall of its capital, Constantinople. The fall resulted in an armed conflict between the Romans and the Ottoman Empire, as well as a series of political and economic changes that took place over the course of the 20th century.<p><i>What are the main differences between aerobic and anaerobic exercise? </i><p>The main differences between aerobic exercise and anaerobic exercise are the amount of time required to perform a specific task, the intensity of the exercise, and the level of oxygen in the body. Aerobic exercises typically require less than 10 minutes of strenuous physical activity, but can be used for longer-term goals such as strength training or cardiovascular endurance. Additionally, aerobic exercises do not require more than 12 hours of sleep each night, which results in greater fatigue and increased risk of injury.\n"
     ]
    },
    {
     "name": "stderr",
     "output_type": "stream",
     "text": [
      "76.21.126.113 - - [17/Mar/2023 20:54:02] \"GET /favicon.ico HTTP/1.1\" 200 -\n"
     ]
    },
    {
     "name": "stdout",
     "output_type": "stream",
     "text": [
      "Server stopped.\n"
     ]
    }
   ],
   "source": [
    "from http.server import BaseHTTPRequestHandler, HTTPServer\n",
    "import time\n",
    "\n",
    "hostName = \"0.0.0.0\"\n",
    "serverPort = 8080\n",
    "\n",
    "class MyServer(BaseHTTPRequestHandler):\n",
    "    history = \"\"\n",
    "    def do_GET(self):\n",
    "        print(\"got query\", self.path)\n",
    "        print(\"Init history is \", MyServer.history)\n",
    "        if MyServer.history == None:\n",
    "            print(\"set history\")\n",
    "            MyServer.history = \"\" \n",
    "        if  self.path[0:6] == '/query':\n",
    "            q = self.path[13:]\n",
    "            q = q.replace(\"+\", \" \")\n",
    "            q = q.replace(\"%3F\", \"?\")\n",
    "            print(\"q\", q)\n",
    "            ans = f(q)\n",
    "            print(\"ans\", ans)\n",
    "            print(\"history is \", MyServer.history)\n",
    "            MyServer.history = MyServer.history + \"<p><i>\" + q + \"</i><p>\" + ans\n",
    "        else:\n",
    "            ans = \"\"\n",
    "            q = \"\" \n",
    "\n",
    "        page = \"\"\"<html><head><title> A ChatBot </title>\n",
    "<meta charset=\"utf-8\">\n",
    "\t<title>CSS Zen Garden: The Beauty of CSS Design</title>\n",
    "\n",
    "\t<link rel=\"stylesheet\" media=\"screen\" href=\"http://www.csszengarden.com/214/214.css?v=8may2013\">\n",
    "\t<link rel=\"alternate\" type=\"application/rss+xml\" title=\"RSS\" href=\"http://www.csszengarden.com/zengarden.xml\">\n",
    "\n",
    "\t<meta name=\"viewport\" content=\"width=device-width, initial-scale=1.0\">\n",
    "\t<meta name=\"author\" content=\"Dave Shea\">\n",
    "\t<meta name=\"description\" content=\"A demonstration of what can be accomplished visually through CSS-based design.\">\n",
    "\t<meta name=\"robots\" content=\"all\">\n",
    "    <script> function fun()\n",
    "{\n",
    " window.scrollTo(0, document.body.scrollHeight);\n",
    "}\n",
    "</script>\n",
    "</head><body onload=\"fun\">\n",
    "\n",
    "<body id=\"css-zen-garden\">\n",
    "<div class=\"page-wrapper\">\n",
    "\n",
    "\t<section class=\"intro\" id=\"zen-intro\">\n",
    "\t\t<header role=\"banner\">\n",
    "\t\t\t<h1>A Chatbot</h1>\n",
    "</header>\n",
    "\n",
    "\t\t<div class=\"summary\" id=\"zen-summary\" role=\"article\">\n",
    "\t\t\t<p> \"\"\" + MyServer.history  + \"\"\" <p> \n",
    " <form action=\"query\" method=\"get\" class=\"form-example\">\n",
    "  <div class=\"form-example\">\n",
    "      <input type=\"text\" name=\"input\" id=\"input\" required  size=\"200\">\n",
    "  </div>\n",
    "</div>\n",
    "</form> </body></html> \"\"\"\n",
    "       \n",
    "\n",
    "        self.send_response(200)\n",
    "        self.send_header(\"Content-type\", \"text/html\")\n",
    "        self.end_headers()\n",
    "\n",
    "        \n",
    "\n",
    "        self.wfile.write(bytes(page, \"utf-8\"))\n",
    "\n",
    "if __name__ == \"__main__\":        \n",
    "    webServer = HTTPServer((hostName, serverPort), MyServer)\n",
    "    print(\"Server started http://%s:%s\" % (hostName, serverPort))\n",
    "\n",
    "    try:\n",
    "        webServer.serve_forever()\n",
    "    except KeyboardInterrupt:\n",
    "        pass\n",
    "\n",
    "    webServer.server_close()\n",
    "    print(\"Server stopped.\")"
   ]
  },
  {
   "cell_type": "code",
   "execution_count": 31,
   "id": "02cd121f",
   "metadata": {},
   "outputs": [
    {
     "data": {
      "text/plain": [
       "'The total number of hours in 3 days is 24 hours.'"
      ]
     },
     "execution_count": 31,
     "metadata": {},
     "output_type": "execute_result"
    }
   ],
   "source": [
    "f(\"Calculate the number of hours in 3 days.\")\n"
   ]
  },
  {
   "cell_type": "code",
   "execution_count": null,
   "id": "56527dfe",
   "metadata": {},
   "outputs": [],
   "source": []
  }
 ],
 "metadata": {
  "kernelspec": {
   "display_name": "Python 3 (ipykernel)",
   "language": "python",
   "name": "python3"
  },
  "language_info": {
   "codemirror_mode": {
    "name": "ipython",
    "version": 3
   },
   "file_extension": ".py",
   "mimetype": "text/x-python",
   "name": "python",
   "nbconvert_exporter": "python",
   "pygments_lexer": "ipython3",
   "version": "3.9.13"
  }
 },
 "nbformat": 4,
 "nbformat_minor": 5
}
